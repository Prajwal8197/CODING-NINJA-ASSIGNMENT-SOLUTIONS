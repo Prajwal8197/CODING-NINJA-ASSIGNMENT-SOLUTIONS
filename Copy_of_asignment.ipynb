{
  "nbformat": 4,
  "nbformat_minor": 0,
  "metadata": {
    "colab": {
      "name": "Copy of asignment.ipynb",
      "provenance": [],
      "collapsed_sections": [],
      "authorship_tag": "ABX9TyOjb8IySgRRZRScwwRny7jp",
      "include_colab_link": true
    },
    "kernelspec": {
      "name": "python3",
      "display_name": "Python 3"
    },
    "language_info": {
      "name": "python"
    }
  },
  "cells": [
    {
      "cell_type": "markdown",
      "metadata": {
        "id": "view-in-github",
        "colab_type": "text"
      },
      "source": [
        "<a href=\"https://colab.research.google.com/github/Prajwal8197/CODING-NINJA-ASSIGNMENT-SOLUTIONS/blob/main/Copy_of_asignment.ipynb\" target=\"_parent\"><img src=\"https://colab.research.google.com/assets/colab-badge.svg\" alt=\"Open In Colab\"/></a>"
      ]
    },
    {
      "cell_type": "markdown",
      "metadata": {
        "id": "zZf8WdvV5izS"
      },
      "source": [
        "CODING NINJA\n",
        "#Assignment programs\n",
        "#CALCULATOR"
      ]
    },
    {
      "cell_type": "markdown",
      "metadata": {
        "id": "hVVuEsUl52yl"
      },
      "source": [
        "problem statement:Write a program that performs the tasks of a simple calculator. The program should first take an integer as input and then based on that integer perform the task as given below.\n",
        "1. If the input is 1, then 2 integers are taken from the user and their sum is printed.\n",
        "2. If the input is 2, then 2 integers are taken from the user and their difference(1st number - 2nd number) is printed.\n",
        "3. If the input is 3, then 2 integers are taken from the user and their product is printed.\n",
        "4. If the input is 4, then 2 integers are taken from the user and the quotient obtained (on dividing 1st number by 2nd number) is printed.\n",
        "5. If the input is 5, then 2 integers are taken from the user and their remainder(1st number mod 2nd number) is printed.\n",
        "6. If the input is 6, then the program exits.\n",
        "7. For any other input, then print \"Invalid Operation\".\n",
        "Note: Each answer in next line.\n",
        "Input format:\n",
        "Take integers as input, in accordance to the description of the question. \n",
        "Constraints:\n",
        "Time Limit: 1 second\n",
        "Output format:\n",
        "The output lines must be as prescribed in the description of the question."
      ]
    },
    {
      "cell_type": "markdown",
      "metadata": {
        "id": "TiVPahhX9rhY"
      },
      "source": [
        "CODE\n"
      ]
    },
    {
      "cell_type": "code",
      "metadata": {
        "colab": {
          "base_uri": "https://localhost:8080/"
        },
        "id": "GHnms7WZ6OtT",
        "outputId": "dc2b1a59-3cf6-4994-a7a6-61595b6a3e4f"
      },
      "source": [
        "# calculator\n",
        "n=int(input())\n",
        "while n!=6:\n",
        "    if n <= 5 and n >= 1:\n",
        "        a=int(input())\n",
        "        b=int(input())\n",
        "    if n==1:\n",
        "        print(a+b)\n",
        "    if n==2:\n",
        "        print(a-b)\n",
        "    if n==3:\n",
        "        print(a*2)\n",
        "    if n==4:\n",
        "        print(a//b)\n",
        "    if n==5:\n",
        "        print(a%b)\n",
        "    elif n < 1 or n > 6:\n",
        "        print(\"Invalid Operation\")\n",
        "    n=int(input())"
      ],
      "execution_count": null,
      "outputs": [
        {
          "name": "stdout",
          "output_type": "stream",
          "text": [
            "1\n",
            "10\n",
            "34\n",
            "44\n",
            "6\n"
          ]
        }
      ]
    },
    {
      "cell_type": "markdown",
      "metadata": {
        "id": "gH61Epq39biP"
      },
      "source": [
        "#REVERSING AND PRINTING A NUMBER"
      ]
    },
    {
      "cell_type": "markdown",
      "metadata": {
        "id": "UNo3TvY8_LVG"
      },
      "source": [
        "#problem statement\n",
        "Reverse of a number\n",
        "\n",
        "Write a program to generate the reverse of a given number N. Print the corresponding reverse number.\n",
        "Note : If a number has trailing zeros, then its reverse will not include them. For e.g., reverse of 10400 will be 401 instead of 00401.\n"
      ]
    },
    {
      "cell_type": "code",
      "metadata": {
        "colab": {
          "base_uri": "https://localhost:8080/"
        },
        "id": "lCAen3qd-BAs",
        "outputId": "5e306d22-c960-410f-fac2-b21a31203c10"
      },
      "source": [
        "#Write Your Code Here\n",
        "n=int(input())\n",
        "rev=0\n",
        "while(n>0):\n",
        "    dig=n%10\n",
        "    rev=rev*10+dig\n",
        "    n=n//10\n",
        "print(rev)"
      ],
      "execution_count": 3,
      "outputs": [
        {
          "output_type": "stream",
          "name": "stdout",
          "text": [
            "1400\n",
            "41\n"
          ]
        }
      ]
    },
    {
      "cell_type": "code",
      "metadata": {
        "colab": {
          "base_uri": "https://localhost:8080/"
        },
        "id": "X1HJxp-G-vWh",
        "outputId": "b0e4cf3c-cfe5-41a5-e91f-ac885176b616"
      },
      "source": [
        "#Write Your Code Here\n",
        "n=int(input())\n",
        "rev=0\n",
        "while(n>0):\n",
        "    dig=n%10\n",
        "    rev=rev*10+dig\n",
        "    n=n//10\n",
        "print(rev)"
      ],
      "execution_count": 4,
      "outputs": [
        {
          "output_type": "stream",
          "name": "stdout",
          "text": [
            "1234\n",
            "4321\n"
          ]
        }
      ]
    }
  ]
}